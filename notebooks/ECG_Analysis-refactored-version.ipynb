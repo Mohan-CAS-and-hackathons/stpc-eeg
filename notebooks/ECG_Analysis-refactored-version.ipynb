{
  "nbformat": 4,
  "nbformat_minor": 0,
  "metadata": {
    "colab": {
      "provenance": [],
      "gpuType": "T4",
      "authorship_tag": "ABX9TyMaktqtGOVRW128945JDGTw",
      "include_colab_link": true
    },
    "kernelspec": {
      "name": "python3",
      "display_name": "Python 3"
    },
    "language_info": {
      "name": "python"
    },
    "accelerator": "GPU"
  },
  "cells": [
    {
      "cell_type": "markdown",
      "metadata": {
        "id": "view-in-github",
        "colab_type": "text"
      },
      "source": [
        "<a href=\"https://colab.research.google.com/github/mythogenesys/Andrew-NG-DL-practises/blob/main/ECG_Analysis.ipynb\" target=\"_parent\"><img src=\"https://colab.research.google.com/assets/colab-badge.svg\" alt=\"Open In Colab\"/></a>"
      ]
    },
    {
      "cell_type": "code",
      "execution_count": null,
      "metadata": {
        "colab": {
          "base_uri": "https://localhost:8080/"
        },
        "id": "D98epfARCV88",
        "outputId": "987dcf98-7348-472a-d0f6-02658d1460ac"
      },
      "outputs": [
        {
          "output_type": "stream",
          "name": "stdout",
          "text": [
            "--- [Step 1/4] Setting up the environment ---\n",
            "Drive already mounted at /content/drive; to attempt to forcibly remount, call drive.mount(\"/content/drive\", force_remount=True).\n",
            "\n",
            "Cloning repository...\n",
            "\u2705 Current directory: /content/ecg-denoiser-hackathon\n"
          ]
        }
      ],
      "source": [
        "# ==============================================================================\n",
        "#      REFACTORED: Full ECG Denoising Ablation & Validation Study\n",
        "# ==============================================================================\n",
        "# This notebook runs the complete ECG study using the new, refactored\n",
        "# `run_training.py` and `run_validation.py` scripts.\n",
        "# ==============================================================================\n",
        "import os\n",
        "from google.colab import drive\n",
        "\n",
        "# ---\n",
        "# [Step 1/4] SETUP: Mount Drive & Clone/Update Repository\n",
        "# ---\n",
        "print(\"--- [Step 1/4] Setting up the environment ---\")\n",
        "drive.mount('/content/drive')\n",
        "\n",
        "GIT_REPO = \"ecg-denoiser-hackathon\"\n",
        "GIT_PATH = \"https://github.com/Mohan-CAS-and-hackathons/ecg-denoiser-hackathon.git\"\n",
        "PROJECT_DIR = f\"/content/{GIT_REPO}\"\n",
        "\n",
        "if not os.path.exists(PROJECT_DIR):\n",
        "    print(f\"\\nCloning repository...\")\n",
        "    !git clone -q {GIT_PATH} {PROJECT_DIR}\n",
        "else:\n",
        "    print(f\"\\nRepository exists. Pulling latest changes...\")\n",
        "    !cd {PROJECT_DIR} && git pull -q\n",
        "\n",
        "os.chdir(PROJECT_DIR)\n",
        "print(f\"\u2705 Current directory: {os.getcwd()}\")\n",
        "\n"
      ]
    },
    {
      "cell_type": "code",
      "source": [
        "import os\n",
        "os.chdir(\"/content\")  # or \"/content\" if you want the Colab workspace\n",
        "print(os.getcwd())\n"
      ],
      "metadata": {
        "colab": {
          "base_uri": "https://localhost:8080/"
        },
        "id": "V72biDc0DdFi",
        "outputId": "e5c80bd4-e735-4b4d-e8ce-c0398a4567ce"
      },
      "execution_count": null,
      "outputs": [
        {
          "output_type": "stream",
          "name": "stdout",
          "text": [
            "/content\n"
          ]
        }
      ]
    },
    {
      "cell_type": "code",
      "source": [
        "!rm -rf ecg-denoiser-hackathon"
      ],
      "metadata": {
        "id": "bqECV9Q5DnbO"
      },
      "execution_count": null,
      "outputs": []
    },
    {
      "cell_type": "code",
      "source": [
        "!pwd\n",
        "!ls"
      ],
      "metadata": {
        "colab": {
          "base_uri": "https://localhost:8080/"
        },
        "id": "o5tLTAAbCmmd",
        "outputId": "7c67e338-3b7e-405c-bb4f-825946804e49"
      },
      "execution_count": null,
      "outputs": [
        {
          "output_type": "stream",
          "name": "stdout",
          "text": [
            "/content\n",
            "drive  sample_data\n"
          ]
        }
      ]
    },
    {
      "cell_type": "code",
      "source": [
        "# ---\n",
        "# [Step 2/4] ENVIRONMENT: Install dependencies\n",
        "# ---\n",
        "print(\"\\n--- [Step 2/4] Installing dependencies ---\")\n",
        "!pip install -q -r requirements.txt\n",
        "# Ensure wfdb is up-to-date for PhysioNet downloads\n",
        "# !pip install --upgrade -q wfdb\n",
        "\n"
      ],
      "metadata": {
        "colab": {
          "base_uri": "https://localhost:8080/"
        },
        "id": "AIZaqfgSCcoH",
        "outputId": "6e483817-b56a-4648-ae12-ad52d5b2fff5"
      },
      "execution_count": null,
      "outputs": [
        {
          "output_type": "stream",
          "name": "stdout",
          "text": [
            "\n",
            "--- [Step 2/4] Installing dependencies ---\n"
          ]
        }
      ]
    },
    {
      "cell_type": "code",
      "source": [
        "!pip install --upgrade -q wfdb\n"
      ],
      "metadata": {
        "colab": {
          "base_uri": "https://localhost:8080/"
        },
        "id": "BAcJEUfeVqxc",
        "outputId": "8034902c-56f2-4f65-a42d-affcc7bdfc4e"
      },
      "execution_count": null,
      "outputs": [
        {
          "output_type": "stream",
          "name": "stdout",
          "text": [
            "\u001b[31mERROR: pip's dependency resolver does not currently take into account all the packages that are installed. This behaviour is the source of the following dependency conflicts.\n",
            "google-colab 1.0.0 requires pandas==2.2.2, but you have pandas 2.3.2 which is incompatible.\n",
            "cudf-cu12 25.6.0 requires pandas<2.2.4dev0,>=2.0, but you have pandas 2.3.2 which is incompatible.\n",
            "dask-cudf-cu12 25.6.0 requires pandas<2.2.4dev0,>=2.0, but you have pandas 2.3.2 which is incompatible.\u001b[0m\u001b[31m\n",
            "\u001b[0m"
          ]
        }
      ]
    },
    {
      "cell_type": "code",
      "source": [
        "# ==============================================================================\n",
        "#                      FINAL DIAGNOSTIC CELL\n",
        "# ==============================================================================\n",
        "import os\n",
        "from google.colab import drive\n",
        "\n",
        "# --- 1. SETUP: Mount Drive & Point to project ---\n",
        "print(\"--- Setting up environment ---\")\n",
        "drive.mount('/content/drive')\n",
        "PROJECT_DIR = \"/content/ecg-denoiser-hackathon\"\n",
        "os.chdir(PROJECT_DIR)\n",
        "print(f\"Current directory: {os.getcwd()}\")\n",
        "\n",
        "# --- 2. DEFINE DATA PATH: This must be the correct path from your Drive ---\n",
        "DATA_DIR_ECG = '/content/drive/MyDrive/ecg_denoiser_hackathon/data/mit-bih-arrhythmia-database-1.0.0'\n",
        "\n",
        "# --- 3. RUN DIAGNOSTIC: This will test wfdb access directly ---\n",
        "print(\"\\n--- Running WFDB access check ---\")\n",
        "!python3 src/experiments/check_wfdb_access.py --data_dir \"{DATA_DIR_ECG}\""
      ],
      "metadata": {
        "id": "DSGLmFWiC0ED",
        "colab": {
          "base_uri": "https://localhost:8080/"
        },
        "outputId": "970b2b09-b8d8-4914-ce00-d2f3ff25d6a9"
      },
      "execution_count": null,
      "outputs": [
        {
          "output_type": "stream",
          "name": "stdout",
          "text": [
            "--- Setting up environment ---\n",
            "Drive already mounted at /content/drive; to attempt to forcibly remount, call drive.mount(\"/content/drive\", force_remount=True).\n",
            "Current directory: /content/ecg-denoiser-hackathon\n",
            "\n",
            "--- Running WFDB access check ---\n",
            "================================================================================\n",
            "--- WFDB Access Diagnostic Tool ---\n",
            "Testing with data directory: '/content/drive/MyDrive/ecg_denoiser_hackathon/data/mit-bih-arrhythmia-database-1.0.0'\n",
            "Constructed path prefix for testing: '/content/drive/MyDrive/ecg_denoiser_hackathon/data/mit-bih-arrhythmia-database-1.0.0/100'\n",
            "================================================================================\n",
            "\n",
            "[Test 1/2]: Attempting to read signal record with wfdb.rdrecord...\n",
            "\n",
            "[SUCCESS]: Successfully read the record!\n",
            "  - Signal shape: (650000, 2)\n",
            "  - Sampling Freq: 360 Hz\n",
            "\n",
            "[Test 2/2]: Attempting to read annotations with wfdb.rdann...\n",
            "\n",
            "[SUCCESS]: Successfully read the annotation file!\n",
            "  - Found 2274 annotations.\n",
            "  - First few symbols: ['+', 'N', 'N', 'N', 'N']\n",
            "\n",
            "================================================================================\n",
            "Diagnostic complete.\n"
          ]
        }
      ]
    },
    {
      "cell_type": "code",
      "source": [
        "print(\"\\n--- [Step 3/4] Starting Ablation Study Training ---\")\n",
        "\n",
        "DRIVE_BASE_PATH = '/content/drive/MyDrive/ecg_denoiser_hackathon/'\n",
        "DATA_DIR_ECG = os.path.join(DRIVE_BASE_PATH, 'data/mit-bih-arrhythmia-database-1.0.0')\n",
        "DATA_DIR_NOISE = os.path.join(DRIVE_BASE_PATH, 'data/mit-bih-noise-stress-test-database-1.0.0')\n",
        "MODEL_DIR = os.path.join(DRIVE_BASE_PATH, 'models2')\n",
        "os.makedirs(MODEL_DIR, exist_ok=True)\n",
        "\n",
        "MODEL_PATH_L1_ONLY = os.path.join(MODEL_DIR, 'denoiser_l1_only.pth')\n",
        "MODEL_PATH_L1_GRAD = os.path.join(MODEL_DIR, 'denoiser_l1_grad.pth')\n",
        "MODEL_PATH_STPC_FULL = os.path.join(MODEL_DIR, 'denoiser_stpc_full.pth')\n",
        "MODEL_PATH_CLASSIFIER = os.path.join(MODEL_DIR, 'ecg_classifier_model.pth')\n",
        "\n",
        "print(\"\\n--- Training the ECG Classifier ---\")\n",
        "!python3 src/experiments/run_training.py ecg_classifier \\\n",
        "    --data_dir \"/content/drive/MyDrive/ecg_denoiser_hackathon/data/mit-bih-arrhythmia-database-1.0.0\" \\\n",
        "    --save_path \"{MODEL_PATH_CLASSIFIER}\" \\\n",
        "    --epochs 5\n",
        "\n",
        "print(\"\\n--- [Run 1/3] Training Denoiser with L1 Loss Only ---\")\n",
        "!python3 src/experiments/run_training.py ecg_denoiser \\\n",
        "    --data_dir \"{DATA_DIR_ECG}\" \\\n",
        "    --noise_dir \"{DATA_DIR_NOISE}\" \\\n",
        "    --save_path \"{MODEL_PATH_L1_ONLY}\" \\\n",
        "    --epochs 5 --no-gradient-loss --no-fft-loss\n",
        "\n",
        "print(\"\\n--- [Run 2/3] Training Denoiser with L1 + Gradient Loss ---\")\n",
        "!python3 src/experiments/run_training.py ecg_denoiser \\\n",
        "    --data_dir \"{DATA_DIR_ECG}\" \\\n",
        "    --noise_dir \"{DATA_DIR_NOISE}\" \\\n",
        "    --save_path \"{MODEL_PATH_L1_GRAD}\" \\\n",
        "    --epochs 5 --no-fft-loss\n",
        "\n",
        "print(\"\\n--- [Run 3/3] Training Denoiser with Full STPC Loss ---\")\n",
        "!python3 src/experiments/run_training.py ecg_denoiser \\\n",
        "    --data_dir \"{DATA_DIR_ECG}\" \\\n",
        "    --noise_dir \"{DATA_DIR_NOISE}\" \\\n",
        "    --save_path \"{MODEL_PATH_STPC_FULL}\" \\\n",
        "    --epochs 5\n",
        "\n",
        "print(\"\\n\u2705 Ablation study training complete!\")"
      ],
      "metadata": {
        "colab": {
          "base_uri": "https://localhost:8080/"
        },
        "id": "oJ622DBUCzBr",
        "outputId": "7628540b-1acc-4e7a-8899-5d8b78bffd52"
      },
      "execution_count": null,
      "outputs": [
        {
          "output_type": "stream",
          "name": "stdout",
          "text": [
            "\n",
            "--- [Step 3/4] Starting Ablation Study Training ---\n",
            "\n",
            "--- Training the ECG Classifier ---\n",
            "--- Training ECG Classifier ---\n",
            "Extracting all annotated heartbeats from the dataset...\n",
            "100% 48/48 [00:04<00:00, 11.36it/s]\n",
            "Extracted a total of 108618 beats.\n",
            "Label distribution: Counter({0: 90608, 2: 7235, 4: 7192, 1: 2781, 3: 802})\n",
            "Epoch 1/5: 100% 679/679 [00:04<00:00, 156.91it/s, loss=0.16]\n",
            "Validation Accuracy: 96.14%\n",
            "Epoch 2/5: 100% 679/679 [00:03<00:00, 212.63it/s, loss=0.194]\n",
            "Validation Accuracy: 96.99%\n",
            "Epoch 3/5: 100% 679/679 [00:03<00:00, 212.59it/s, loss=0.157]\n",
            "Validation Accuracy: 97.71%\n",
            "Epoch 4/5: 100% 679/679 [00:05<00:00, 128.14it/s, loss=0.069]\n",
            "Validation Accuracy: 97.85%\n",
            "Epoch 5/5: 100% 679/679 [00:03<00:00, 208.21it/s, loss=0.0769]\n",
            "Validation Accuracy: 97.91%\n",
            "Classifier model saved to /content/drive/MyDrive/ecg_denoiser_hackathon/models2/ecg_classifier_model.pth\n",
            "\n",
            "--- [Run 1/3] Training Denoiser with L1 Loss Only ---\n",
            "--- Training ECG Denoiser ---\n",
            "Config: L1 Loss Enabled, Gradient Loss False, FFT Loss False\n",
            "Model will be saved to: /content/drive/MyDrive/ecg_denoiser_hackathon/models2/denoiser_l1_only.pth\n",
            "Scanning for record names and loading noise signals...\n",
            "/content/ecg-denoiser-hackathon/src/experiments/run_training.py:61: FutureWarning: `torch.cuda.amp.GradScaler(args...)` is deprecated. Please use `torch.amp.GradScaler('cuda', args...)` instead.\n",
            "  scaler = torch.cuda.amp.GradScaler(enabled=(DEVICE=='cuda'))\n",
            "\n",
            "Epoch 1/5: Loading a fresh subset of data...\n",
            "Loading signals: 100% 20/20 [00:02<00:00,  9.48it/s]\n",
            "Training: 100% 157/157 [00:10<00:00, 15.55it/s, loss=0.184]\n",
            "Epoch 1 complete. Avg Loss: 0.222649\n",
            "\n",
            "Epoch 2/5: Loading a fresh subset of data...\n",
            "Loading signals: 100% 20/20 [00:01<00:00, 13.71it/s]\n",
            "Training: 100% 157/157 [00:09<00:00, 17.07it/s, loss=0.144]\n",
            "Epoch 2 complete. Avg Loss: 0.160094\n",
            "\n",
            "Epoch 3/5: Loading a fresh subset of data...\n",
            "Loading signals: 100% 20/20 [00:01<00:00, 16.77it/s]\n",
            "Training: 100% 157/157 [00:09<00:00, 17.01it/s, loss=0.136]\n",
            "Epoch 3 complete. Avg Loss: 0.146804\n",
            "\n",
            "Epoch 4/5: Loading a fresh subset of data...\n",
            "Loading signals: 100% 20/20 [00:01<00:00, 14.86it/s]\n",
            "Training: 100% 157/157 [00:09<00:00, 16.48it/s, loss=0.127]\n",
            "Epoch 4 complete. Avg Loss: 0.136313\n",
            "\n",
            "Epoch 5/5: Loading a fresh subset of data...\n",
            "Loading signals: 100% 20/20 [00:01<00:00, 16.78it/s]\n",
            "Training: 100% 157/157 [00:09<00:00, 16.42it/s, loss=0.132]\n",
            "Epoch 5 complete. Avg Loss: 0.137047\n",
            "\n",
            "--- [Run 2/3] Training Denoiser with L1 + Gradient Loss ---\n",
            "--- Training ECG Denoiser ---\n",
            "Config: L1 Loss Enabled, Gradient Loss True, FFT Loss False\n",
            "Model will be saved to: /content/drive/MyDrive/ecg_denoiser_hackathon/models2/denoiser_l1_grad.pth\n",
            "Scanning for record names and loading noise signals...\n",
            "/content/ecg-denoiser-hackathon/src/experiments/run_training.py:61: FutureWarning: `torch.cuda.amp.GradScaler(args...)` is deprecated. Please use `torch.amp.GradScaler('cuda', args...)` instead.\n",
            "  scaler = torch.cuda.amp.GradScaler(enabled=(DEVICE=='cuda'))\n",
            "\n",
            "Epoch 1/5: Loading a fresh subset of data...\n",
            "Loading signals: 100% 20/20 [00:01<00:00, 17.00it/s]\n",
            "Training: 100% 157/157 [00:10<00:00, 14.84it/s, loss=0.194]\n",
            "Epoch 1 complete. Avg Loss: 0.235178\n",
            "\n",
            "Epoch 2/5: Loading a fresh subset of data...\n",
            "Loading signals: 100% 20/20 [00:01<00:00, 16.46it/s]\n",
            "Training: 100% 157/157 [00:09<00:00, 16.08it/s, loss=0.2]\n",
            "Epoch 2 complete. Avg Loss: 0.162399\n",
            "\n",
            "Epoch 3/5: Loading a fresh subset of data...\n",
            "Loading signals: 100% 20/20 [00:01<00:00, 16.35it/s]\n",
            "Training: 100% 157/157 [00:10<00:00, 15.63it/s, loss=0.412]\n",
            "Epoch 3 complete. Avg Loss: 0.169066\n",
            "\n",
            "Epoch 4/5: Loading a fresh subset of data...\n",
            "Loading signals: 100% 20/20 [00:01<00:00, 13.75it/s]\n",
            "Training: 100% 157/157 [00:09<00:00, 15.80it/s, loss=0.113]\n",
            "Epoch 4 complete. Avg Loss: 0.139922\n",
            "\n",
            "Epoch 5/5: Loading a fresh subset of data...\n",
            "Loading signals: 100% 20/20 [00:01<00:00, 10.44it/s]\n",
            "Training: 100% 157/157 [00:09<00:00, 16.01it/s, loss=0.127]\n",
            "Epoch 5 complete. Avg Loss: 0.132446\n",
            "\n",
            "--- [Run 3/3] Training Denoiser with Full STPC Loss ---\n",
            "--- Training ECG Denoiser ---\n",
            "Config: L1 Loss Enabled, Gradient Loss True, FFT Loss True\n",
            "Model will be saved to: /content/drive/MyDrive/ecg_denoiser_hackathon/models2/denoiser_stpc_full.pth\n",
            "Scanning for record names and loading noise signals...\n",
            "/content/ecg-denoiser-hackathon/src/experiments/run_training.py:61: FutureWarning: `torch.cuda.amp.GradScaler(args...)` is deprecated. Please use `torch.amp.GradScaler('cuda', args...)` instead.\n",
            "  scaler = torch.cuda.amp.GradScaler(enabled=(DEVICE=='cuda'))\n",
            "\n",
            "Epoch 1/5: Loading a fresh subset of data...\n",
            "Loading signals: 100% 20/20 [00:01<00:00, 13.04it/s]\n",
            "Training:   0% 0/157 [00:00<?, ?it/s]/content/ecg-denoiser-hackathon/src/stpc/losses.py:33: UserWarning: ComplexHalf support is experimental and many operators don't support it yet. (Triggered internally at /pytorch/aten/src/ATen/EmptyTensor.cpp:55.)\n",
            "  pred_fft_mag = torch.abs(torch.fft.fft(prediction, dim=-1))\n",
            "Training: 100% 157/157 [00:10<00:00, 15.05it/s, loss=1.04]\n",
            "Epoch 1 complete. Avg Loss: 1.078103\n",
            "\n",
            "Epoch 2/5: Loading a fresh subset of data...\n",
            "Loading signals: 100% 20/20 [00:01<00:00, 15.66it/s]\n",
            "Training: 100% 157/157 [00:09<00:00, 16.24it/s, loss=0.836]\n",
            "Epoch 2 complete. Avg Loss: 0.700947\n",
            "\n",
            "Epoch 3/5: Loading a fresh subset of data...\n",
            "Loading signals: 100% 20/20 [00:01<00:00, 16.49it/s]\n",
            "Training: 100% 157/157 [00:09<00:00, 16.10it/s, loss=0.725]\n",
            "Epoch 3 complete. Avg Loss: 0.596635\n",
            "\n",
            "Epoch 4/5: Loading a fresh subset of data...\n",
            "Loading signals: 100% 20/20 [00:01<00:00, 11.37it/s]\n",
            "Training: 100% 157/157 [00:09<00:00, 16.08it/s, loss=0.765]\n",
            "Epoch 4 complete. Avg Loss: 0.582900\n",
            "\n",
            "Epoch 5/5: Loading a fresh subset of data...\n",
            "Loading signals: 100% 20/20 [00:01<00:00, 12.40it/s]\n",
            "Training: 100% 157/157 [00:09<00:00, 16.02it/s, loss=0.572]\n",
            "Epoch 5 complete. Avg Loss: 0.538592\n",
            "\n",
            "\u2705 Ablation study training complete!\n"
          ]
        }
      ]
    },
    {
      "cell_type": "code",
      "source": [],
      "metadata": {
        "id": "B8y-AoZ0DAdt"
      },
      "execution_count": null,
      "outputs": []
    },
    {
      "cell_type": "code",
      "source": [
        "print(\"\\n--- [Step 4/4] Starting End-to-End Validation for All Models ---\")\n",
        "\n",
        "RESULTS_DIR = os.path.join(DRIVE_BASE_PATH, 'results2')\n",
        "os.makedirs(RESULTS_DIR, exist_ok=True)\n",
        "\n",
        "OUTPUT_PREFIX_L1_ONLY = os.path.join(RESULTS_DIR, 'l1_only_final')\n",
        "OUTPUT_PREFIX_L1_GRAD = os.path.join(RESULTS_DIR, 'l1_grad_final')\n",
        "OUTPUT_PREFIX_STPC_FULL = os.path.join(RESULTS_DIR, 'stpc_full_final')\n",
        "\n",
        "print(\"\\n--- [Run 1/3] Validating L1 Only Model ---\")\n",
        "!python3 src/experiments/run_validation.py ecg_downstream \\\n",
        "    --denoiser_path \"{MODEL_PATH_L1_ONLY}\" \\\n",
        "    --classifier_path \"{MODEL_PATH_CLASSIFIER}\" \\\n",
        "    --data_dir \"{DATA_DIR_ECG}\" \\\n",
        "    --noise_dir \"{DATA_DIR_NOISE}\" \\\n",
        "    --output_prefix \"{OUTPUT_PREFIX_L1_ONLY}\"\n",
        "\n",
        "print(\"\\n--- [Run 2/3] Validating L1 + Gradient Model ---\")\n",
        "!python3 src/experiments/run_validation.py ecg_downstream \\\n",
        "    --denoiser_path \"{MODEL_PATH_L1_GRAD}\" \\\n",
        "    --classifier_path \"{MODEL_PATH_CLASSIFIER}\" \\\n",
        "    --data_dir \"{DATA_DIR_ECG}\" \\\n",
        "    --noise_dir \"{DATA_DIR_NOISE}\" \\\n",
        "    --output_prefix \"{OUTPUT_PREFIX_L1_GRAD}\"\n",
        "\n",
        "print(\"\\n--- [Run 3/3] Validating Full STPC Model ---\")\n",
        "!python3 src/experiments/run_validation.py ecg_downstream \\\n",
        "    --denoiser_path \"{MODEL_PATH_STPC_FULL}\" \\\n",
        "    --classifier_path \"{MODEL_PATH_CLASSIFIER}\" \\\n",
        "    --data_dir \"{DATA_DIR_ECG}\" \\\n",
        "    --noise_dir \"{DATA_DIR_NOISE}\" \\\n",
        "    --output_prefix \"{OUTPUT_PREFIX_STPC_FULL}\"\n",
        "\n",
        "print(\"\\n\\n\u2705\u2705\u2705 Full ECG Study Complete! Check your Google Drive for results. \u2705\u2705\u2705\")"
      ],
      "metadata": {
        "id": "4SMJ0fbtC_zQ",
        "colab": {
          "base_uri": "https://localhost:8080/"
        },
        "outputId": "cc99e84d-116c-4a85-bcb8-864a33844f6e"
      },
      "execution_count": null,
      "outputs": [
        {
          "output_type": "stream",
          "name": "stdout",
          "text": [
            "\n",
            "--- [Step 4/4] Starting End-to-End Validation for All Models ---\n",
            "\n",
            "--- [Run 1/3] Validating L1 Only Model ---\n",
            "--- Running End-to-End ECG Downstream Validation ---\n",
            "Loading models...\n",
            "Loading record: 201 from /content/drive/MyDrive/ecg_denoiser_hackathon/data/mit-bih-arrhythmia-database-1.0.0\n",
            "Denoising: 100% 221/221 [00:01<00:00, 210.74it/s]\n",
            "\n",
            "--- PERFORMANCE ON NOISY SIGNAL ---\n",
            "              precision    recall  f1-score   support\n",
            "\n",
            "           N       0.92      0.98      0.95      1635\n",
            "           S       0.50      0.04      0.07       128\n",
            "           V       0.98      0.72      0.83       198\n",
            "           F       0.00      0.00      0.00         2\n",
            "           Q       0.00      0.00      0.00         0\n",
            "\n",
            "    accuracy                           0.89      1963\n",
            "   macro avg       0.48      0.35      0.37      1963\n",
            "weighted avg       0.89      0.89      0.88      1963\n",
            "\n",
            "\n",
            "--- PERFORMANCE ON DENOISED SIGNAL ---\n",
            "              precision    recall  f1-score   support\n",
            "\n",
            "           N       0.95      1.00      0.97      1635\n",
            "           S       0.68      0.25      0.37       128\n",
            "           V       0.94      0.90      0.92       198\n",
            "           F       0.00      0.00      0.00         2\n",
            "           Q       0.00      0.00      0.00         0\n",
            "\n",
            "    accuracy                           0.94      1963\n",
            "   macro avg       0.52      0.43      0.45      1963\n",
            "weighted avg       0.93      0.94      0.93      1963\n",
            "\n",
            "\n",
            "--- PERFORMANCE ON CLEAN SIGNAL ---\n",
            "              precision    recall  f1-score   support\n",
            "\n",
            "           N       0.96      1.00      0.98      1635\n",
            "           S       0.95      0.31      0.47       128\n",
            "           V       0.96      0.99      0.98       198\n",
            "           F       0.00      0.00      0.00         2\n",
            "           Q       0.00      0.00      0.00         0\n",
            "\n",
            "    accuracy                           0.95      1963\n",
            "   macro avg       0.57      0.46      0.48      1963\n",
            "weighted avg       0.96      0.95      0.94      1963\n",
            "\n",
            "\n",
            "--- [Run 2/3] Validating L1 + Gradient Model ---\n",
            "--- Running End-to-End ECG Downstream Validation ---\n",
            "Loading models...\n",
            "Loading record: 201 from /content/drive/MyDrive/ecg_denoiser_hackathon/data/mit-bih-arrhythmia-database-1.0.0\n",
            "Denoising: 100% 221/221 [00:01<00:00, 207.85it/s]\n",
            "\n",
            "--- PERFORMANCE ON NOISY SIGNAL ---\n",
            "              precision    recall  f1-score   support\n",
            "\n",
            "           N       0.92      0.98      0.95      1635\n",
            "           S       0.50      0.04      0.07       128\n",
            "           V       0.98      0.72      0.83       198\n",
            "           F       0.00      0.00      0.00         2\n",
            "           Q       0.00      0.00      0.00         0\n",
            "\n",
            "    accuracy                           0.89      1963\n",
            "   macro avg       0.48      0.35      0.37      1963\n",
            "weighted avg       0.89      0.89      0.88      1963\n",
            "\n",
            "\n",
            "--- PERFORMANCE ON DENOISED SIGNAL ---\n",
            "              precision    recall  f1-score   support\n",
            "\n",
            "           N       0.96      1.00      0.98      1635\n",
            "           S       0.85      0.27      0.40       128\n",
            "           V       0.97      0.95      0.96       198\n",
            "           F       0.00      0.00      0.00         2\n",
            "           Q       0.00      0.00      0.00         0\n",
            "\n",
            "    accuracy                           0.95      1963\n",
            "   macro avg       0.56      0.44      0.47      1963\n",
            "weighted avg       0.95      0.95      0.94      1963\n",
            "\n",
            "\n",
            "--- PERFORMANCE ON CLEAN SIGNAL ---\n",
            "              precision    recall  f1-score   support\n",
            "\n",
            "           N       0.96      1.00      0.98      1635\n",
            "           S       0.95      0.31      0.47       128\n",
            "           V       0.96      0.99      0.98       198\n",
            "           F       0.00      0.00      0.00         2\n",
            "           Q       0.00      0.00      0.00         0\n",
            "\n",
            "    accuracy                           0.95      1963\n",
            "   macro avg       0.57      0.46      0.48      1963\n",
            "weighted avg       0.96      0.95      0.94      1963\n",
            "\n",
            "\n",
            "--- [Run 3/3] Validating Full STPC Model ---\n",
            "--- Running End-to-End ECG Downstream Validation ---\n",
            "Loading models...\n",
            "Loading record: 201 from /content/drive/MyDrive/ecg_denoiser_hackathon/data/mit-bih-arrhythmia-database-1.0.0\n",
            "Denoising: 100% 221/221 [00:01<00:00, 205.00it/s]\n",
            "\n",
            "--- PERFORMANCE ON NOISY SIGNAL ---\n",
            "              precision    recall  f1-score   support\n",
            "\n",
            "           N       0.92      0.98      0.95      1635\n",
            "           S       0.50      0.04      0.07       128\n",
            "           V       0.98      0.72      0.83       198\n",
            "           F       0.00      0.00      0.00         2\n",
            "           Q       0.00      0.00      0.00         0\n",
            "\n",
            "    accuracy                           0.89      1963\n",
            "   macro avg       0.48      0.35      0.37      1963\n",
            "weighted avg       0.89      0.89      0.88      1963\n",
            "\n",
            "\n",
            "--- PERFORMANCE ON DENOISED SIGNAL ---\n",
            "              precision    recall  f1-score   support\n",
            "\n",
            "           N       0.94      1.00      0.97      1635\n",
            "           S       0.54      0.11      0.18       128\n",
            "           V       0.98      0.89      0.94       198\n",
            "           F       0.00      0.00      0.00         2\n",
            "           Q       0.00      0.00      0.00         0\n",
            "\n",
            "    accuracy                           0.93      1963\n",
            "   macro avg       0.49      0.40      0.42      1963\n",
            "weighted avg       0.92      0.93      0.91      1963\n",
            "\n",
            "\n",
            "--- PERFORMANCE ON CLEAN SIGNAL ---\n",
            "              precision    recall  f1-score   support\n",
            "\n",
            "           N       0.96      1.00      0.98      1635\n",
            "           S       0.95      0.31      0.47       128\n",
            "           V       0.96      0.99      0.98       198\n",
            "           F       0.00      0.00      0.00         2\n",
            "           Q       0.00      0.00      0.00         0\n",
            "\n",
            "    accuracy                           0.95      1963\n",
            "   macro avg       0.57      0.46      0.48      1963\n",
            "weighted avg       0.96      0.95      0.94      1963\n",
            "\n",
            "\n",
            "\n",
            "\u2705\u2705\u2705 Full ECG Study Complete! Check your Google Drive for results. \u2705\u2705\u2705\n"
          ]
        }
      ]
    }
  ]
}