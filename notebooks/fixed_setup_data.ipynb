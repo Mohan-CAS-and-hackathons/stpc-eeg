{
  "nbformat": 4,
  "nbformat_minor": 0,
  "metadata": {
    "colab": {
      "provenance": [],
      "include_colab_link": true
    },
    "kernelspec": {
      "name": "python3",
      "display_name": "Python 3"
    },
    "language_info": {
      "name": "python"
    }
  },
  "cells": [
    {
      "cell_type": "markdown",
      "metadata": {
        "id": "view-in-github",
        "colab_type": "text"
      },
      "source": [
        "<a href=\"https://colab.research.google.com/github/mythogenesys/Andrew-NG-DL-practises/blob/main/setup_data.ipynb\" target=\"_parent\"><img src=\"https://colab.research.google.com/assets/colab-badge.svg\" alt=\"Open In Colab\"/></a>"
      ]
    },
    {
      "cell_type": "code",
      "execution_count": null,
      "metadata": {
        "id": "LmvynDqxr5H0"
      },
      "outputs": [],
      "source": [
        "# ==============================================================================\n",
        "#      STPC-EEG Project: One-Time Environment and Dataset Setup (Final Version)\n",
        "# ==============================================================================\n",
        "#\n",
        "# This notebook is idempotent: it can be run multiple times without causing errors.\n",
        "# It will only download and set up files that are not already present.\n",
        "#\n",
        "# ==============================================================================\n",
        "\n",
        "import os\n",
        "from google.colab import drive\n",
        "import requests\n",
        "from tqdm import tqdm\n",
        "import zipfile\n",
        "import shutil\n",
        "\n",
        "print(\"--- Step 1: Mounting Google Drive ---\")\n",
        "drive.mount('/content/drive')\n",
        "print(\"\u2705 Drive mounted successfully.\")\n",
        "\n",
        "# --- Define Project Structure ---\n",
        "DRIVE_PROJECT_PATH = \"/content/drive/MyDrive/stpc-eeg\"\n",
        "DATA_PATH = os.path.join(DRIVE_PROJECT_PATH, \"data\")\n",
        "EEG_DATA_PATH = os.path.join(DATA_PATH, \"chb-mit-scalp-eeg-database-1.0.0\")\n",
        "ECG_DATA_PATH = os.path.join(DATA_PATH, \"mit-bih-arrhythmia-database-1.0.0\")\n",
        "NOISE_DATA_PATH = os.path.join(DATA_PATH, \"mit-bih-noise-stress-test-database-1.0.0\")\n",
        "\n",
        "print(\"\\n--- Step 2: Creating Project Directory Structure on Google Drive ---\")\n",
        "os.makedirs(EEG_DATA_PATH, exist_ok=True)\n",
        "os.makedirs(ECG_DATA_PATH, exist_ok=True)\n",
        "os.makedirs(NOISE_DATA_PATH, exist_ok=True)\n",
        "print(f\"Project root created at: {DRIVE_PROJECT_PATH}\")\n",
        "print(\"\u2705 Directory structure confirmed.\")\n",
        "\n"
      ]
    },
    {
      "cell_type": "code",
      "source": [
        "# --- Helper function for downloading with progress bar ---\n",
        "def download_file(url, destination):\n",
        "    if os.path.exists(destination):\n",
        "        print(f\"File already exists: {os.path.basename(destination)}. Skipping download.\")\n",
        "        return\n",
        "    print(f\"Downloading {os.path.basename(destination)}...\")\n",
        "    response = requests.get(url, stream=True)\n",
        "    total_size = int(response.headers.get('content-length', 0))\n",
        "    with open(destination, 'wb') as f, tqdm(\n",
        "        desc=os.path.basename(destination), total=total_size, unit='iB',\n",
        "        unit_scale=True, unit_divisor=1024,\n",
        "    ) as bar:\n",
        "        for data in response.iter_content(chunk_size=1024):\n",
        "            size = f.write(data)\n",
        "            bar.update(size)\n",
        "    print(\"Download complete.\")\n",
        "\n",
        "# --- Step 3: Download Datasets ---\n",
        "\n",
        "# --- 3a. CHB-MIT Scalp EEG Database (Subject chb01 only) ---\n",
        "print(\"\\n--- Downloading CHB-MIT EEG Dataset (Subject chb01) ---\")\n",
        "EEG_SUBJ01_PATH = os.path.join(EEG_DATA_PATH, 'chb01')\n",
        "os.makedirs(EEG_SUBJ01_PATH, exist_ok=True)\n",
        "chb01_files = [\n",
        "    'chb01_01.edf', 'chb01_02.edf', 'chb01_03.edf', 'chb01_04.edf', 'chb01_05.edf',\n",
        "    'chb01_06.edf', 'chb01_07.edf', 'chb01_03.edf.seizures', 'chb01_04.edf.seizures'\n",
        "]\n",
        "base_url = \"https://physionet.org/files/chbmit/1.0.0/chb01/\"\n",
        "for fname in chb01_files:\n",
        "    download_file(base_url + fname, os.path.join(EEG_SUBJ01_PATH, fname))\n",
        "\n"
      ],
      "metadata": {
        "id": "LDGFLdPdr58r"
      },
      "execution_count": null,
      "outputs": []
    },
    {
      "cell_type": "code",
      "source": [
        "# --- DEFINITIVE FIX for robust unzipping and moving ---\n",
        "def unzip_and_merge(zip_path, temp_unzip_dir, final_destination_dir):\n",
        "    if not os.path.exists(zip_path): return\n",
        "    print(f\"Processing {os.path.basename(zip_path)}...\")\n",
        "    # Unzip to a temporary directory\n",
        "    with zipfile.ZipFile(zip_path, 'r') as zip_ref:\n",
        "        zip_ref.extractall(temp_unzip_dir)\n",
        "\n",
        "    # The zip files from PhysioNet create a folder with the same name. Find it.\n",
        "    source_folder = os.path.join(temp_unzip_dir, os.path.basename(final_destination_dir))\n",
        "\n",
        "    if not os.path.exists(source_folder):\n",
        "        print(f\"Warning: Expected unzipped folder not found at {source_folder}\")\n",
        "        return\n",
        "\n",
        "    # Move each file from the source to the final destination, overwriting if needed\n",
        "    # This is more robust than moving the whole folder.\n",
        "    for item in os.listdir(source_folder):\n",
        "        s_item = os.path.join(source_folder, item)\n",
        "        d_item = os.path.join(final_destination_dir, item)\n",
        "        # We can simply move, as shutil.move overwrites files by default if the destination is a directory\n",
        "        shutil.move(s_item, d_item)\n",
        "\n",
        "    # Clean up the temporary directories and the zip file\n",
        "    shutil.rmtree(temp_unzip_dir)\n",
        "    os.remove(zip_path)\n",
        "    print(\"Setup complete.\")\n",
        "\n",
        "# --- 3b. MIT-BIH Arrhythmia Database (ECG) ---\n",
        "print(\"\\n--- Downloading MIT-BIH Arrhythmia ECG Dataset ---\")\n",
        "ecg_url = \"https://physionet.org/static/published-projects/mitdb/mit-bih-arrhythmia-database-1.0.0.zip\"\n",
        "ecg_zip_path = os.path.join(DATA_PATH, 'mitdb.zip')\n",
        "temp_ecg_unzip = os.path.join(DATA_PATH, 'temp_ecg')\n",
        "download_file(ecg_url, ecg_zip_path)\n",
        "unzip_and_merge(ecg_zip_path, temp_ecg_unzip, ECG_DATA_PATH)\n",
        "\n",
        "# --- 3c. MIT-BIH Noise Stress Test Database ---\n",
        "print(\"\\n--- Downloading MIT-BIH Noise Stress Test Dataset ---\")\n",
        "noise_url = \"https://physionet.org/static/published-projects/nstdb/mit-bih-noise-stress-test-database-1.0.0.zip\"\n",
        "noise_zip_path = os.path.join(DATA_PATH, 'nstdb.zip')\n",
        "temp_noise_unzip = os.path.join(DATA_PATH, 'temp_noise')\n",
        "download_file(noise_url, noise_zip_path)\n",
        "unzip_and_merge(noise_zip_path, temp_noise_unzip, NOISE_DATA_PATH)\n",
        "\n",
        "\n",
        "# --- Step 4: Verify Installation ---\n",
        "print(\"\\n\\n--- Step 4: Verifying Final Directory Structure ---\")\n",
        "def verify_path(path, file_count):\n",
        "    if os.path.exists(path) and len(os.listdir(path)) >= file_count:\n",
        "        print(f\"\u2705 SUCCESS: Found {len(os.listdir(path))} files in {path}\")\n",
        "    else:\n",
        "        print(f\"\u274c FAILED: Path not found or is empty: {path}\")\n",
        "\n",
        "verify_path(EEG_SUBJ01_PATH, 9)\n",
        "verify_path(ECG_DATA_PATH, 100) # Check for a reasonable number of files\n",
        "verify_path(NOISE_DATA_PATH, 10)   # Check for a reasonable number of files\n",
        "\n",
        "print(\"\\n\\n\ud83c\udf89\ud83c\udf89\ud83c\udf89 Environment setup is complete! You can now proceed to the main research notebook. \ud83c\udf89\ud83c\udf89\ud83c\udf89\")"
      ],
      "metadata": {
        "id": "4yAqrsc8r8m_"
      },
      "execution_count": null,
      "outputs": []
    }
  ]
}